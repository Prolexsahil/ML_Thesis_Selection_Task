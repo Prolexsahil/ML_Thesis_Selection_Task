{
  "nbformat": 4,
  "nbformat_minor": 0,
  "metadata": {
    "colab": {
      "provenance": []
    },
    "kernelspec": {
      "name": "python3",
      "display_name": "Python 3"
    },
    "language_info": {
      "name": "python"
    }
  },
  "cells": [
    {
      "cell_type": "code",
      "source": [
        "from google.colab import drive\n",
        "drive.mount('/content/drive')\n"
      ],
      "metadata": {
        "colab": {
          "base_uri": "https://localhost:8080/"
        },
        "id": "wO6D4e9hIoMM",
        "outputId": "c87701fe-5f1b-4102-889f-af6e95754707"
      },
      "execution_count": null,
      "outputs": [
        {
          "output_type": "stream",
          "name": "stdout",
          "text": [
            "Drive already mounted at /content/drive; to attempt to forcibly remount, call drive.mount(\"/content/drive\", force_remount=True).\n"
          ]
        }
      ]
    },
    {
      "cell_type": "code",
      "execution_count": null,
      "metadata": {
        "colab": {
          "base_uri": "https://localhost:8080/"
        },
        "id": "bcwAV0bPGAeP",
        "outputId": "5b749a66-7dbe-4a84-fda8-4e3f3d6650f5"
      },
      "outputs": [
        {
          "output_type": "stream",
          "name": "stdout",
          "text": [
            "['activity_labels.txt', '.DS_Store', 'features_info.txt', 'README.txt', 'features.txt', 'train', 'test']\n"
          ]
        }
      ],
      "source": [
        "import os\n",
        "\n",
        "data_path = \"/content/drive/MyDrive/Dataset_ML_Task/UCI HAR Dataset\"\n",
        "print(os.listdir(data_path))\n"
      ]
    },
    {
      "cell_type": "code",
      "source": [
        "import numpy as np\n",
        "import pandas as pd\n",
        "\n",
        "def load_signals(file_paths):\n",
        "    \"\"\"\n",
        "    Load multiple signal files and stack them along the last dimension.\n",
        "    Each file has shape (n_samples, 128).\n",
        "    \"\"\"\n",
        "    signals = [pd.read_csv(fp, delim_whitespace=True, header=None).values for fp in file_paths]\n",
        "    # shape: (n_samples, 128, n_channels)\n",
        "    return np.stack(signals, axis=-1)\n",
        "\n",
        "# File paths for train/test\n",
        "train_signals = [\n",
        "    os.path.join(data_path, \"train/Inertial Signals/body_acc_x_train.txt\"),\n",
        "    os.path.join(data_path, \"train/Inertial Signals/body_acc_y_train.txt\"),\n",
        "    os.path.join(data_path, \"train/Inertial Signals/body_acc_z_train.txt\"),\n",
        "    os.path.join(data_path, \"train/Inertial Signals/body_gyro_x_train.txt\"),\n",
        "    os.path.join(data_path, \"train/Inertial Signals/body_gyro_y_train.txt\"),\n",
        "    os.path.join(data_path, \"train/Inertial Signals/body_gyro_z_train.txt\"),\n",
        "    os.path.join(data_path, \"train/Inertial Signals/total_acc_x_train.txt\"),\n",
        "    os.path.join(data_path, \"train/Inertial Signals/total_acc_y_train.txt\"),\n",
        "    os.path.join(data_path, \"train/Inertial Signals/total_acc_z_train.txt\")\n",
        "]\n",
        "\n",
        "test_signals = [\n",
        "    os.path.join(data_path, \"test/Inertial Signals/body_acc_x_test.txt\"),\n",
        "    os.path.join(data_path, \"test/Inertial Signals/body_acc_y_test.txt\"),\n",
        "    os.path.join(data_path, \"test/Inertial Signals/body_acc_z_test.txt\"),\n",
        "    os.path.join(data_path, \"test/Inertial Signals/body_gyro_x_test.txt\"),\n",
        "    os.path.join(data_path, \"test/Inertial Signals/body_gyro_y_test.txt\"),\n",
        "    os.path.join(data_path, \"test/Inertial Signals/body_gyro_z_test.txt\"),\n",
        "    os.path.join(data_path, \"test/Inertial Signals/total_acc_x_test.txt\"),\n",
        "    os.path.join(data_path, \"test/Inertial Signals/total_acc_y_test.txt\"),\n",
        "    os.path.join(data_path, \"test/Inertial Signals/total_acc_z_test.txt\")\n",
        "]\n",
        "\n",
        "# Load signals\n",
        "X_train = load_signals(train_signals)\n",
        "X_test = load_signals(test_signals)\n",
        "\n",
        "print(\"Train shape (samples, timesteps, channels):\", X_train.shape)\n",
        "print(\"Test shape (samples, timesteps, channels):\", X_test.shape)\n"
      ],
      "metadata": {
        "colab": {
          "base_uri": "https://localhost:8080/"
        },
        "id": "_OhqD1c6H-hS",
        "outputId": "f7bb0e6f-3df4-4d1a-f416-9e30ea8aef65"
      },
      "execution_count": null,
      "outputs": [
        {
          "output_type": "stream",
          "name": "stderr",
          "text": [
            "/tmp/ipython-input-426422734.py:9: FutureWarning: The 'delim_whitespace' keyword in pd.read_csv is deprecated and will be removed in a future version. Use ``sep='\\s+'`` instead\n",
            "  signals = [pd.read_csv(fp, delim_whitespace=True, header=None).values for fp in file_paths]\n",
            "/tmp/ipython-input-426422734.py:9: FutureWarning: The 'delim_whitespace' keyword in pd.read_csv is deprecated and will be removed in a future version. Use ``sep='\\s+'`` instead\n",
            "  signals = [pd.read_csv(fp, delim_whitespace=True, header=None).values for fp in file_paths]\n",
            "/tmp/ipython-input-426422734.py:9: FutureWarning: The 'delim_whitespace' keyword in pd.read_csv is deprecated and will be removed in a future version. Use ``sep='\\s+'`` instead\n",
            "  signals = [pd.read_csv(fp, delim_whitespace=True, header=None).values for fp in file_paths]\n",
            "/tmp/ipython-input-426422734.py:9: FutureWarning: The 'delim_whitespace' keyword in pd.read_csv is deprecated and will be removed in a future version. Use ``sep='\\s+'`` instead\n",
            "  signals = [pd.read_csv(fp, delim_whitespace=True, header=None).values for fp in file_paths]\n",
            "/tmp/ipython-input-426422734.py:9: FutureWarning: The 'delim_whitespace' keyword in pd.read_csv is deprecated and will be removed in a future version. Use ``sep='\\s+'`` instead\n",
            "  signals = [pd.read_csv(fp, delim_whitespace=True, header=None).values for fp in file_paths]\n",
            "/tmp/ipython-input-426422734.py:9: FutureWarning: The 'delim_whitespace' keyword in pd.read_csv is deprecated and will be removed in a future version. Use ``sep='\\s+'`` instead\n",
            "  signals = [pd.read_csv(fp, delim_whitespace=True, header=None).values for fp in file_paths]\n",
            "/tmp/ipython-input-426422734.py:9: FutureWarning: The 'delim_whitespace' keyword in pd.read_csv is deprecated and will be removed in a future version. Use ``sep='\\s+'`` instead\n",
            "  signals = [pd.read_csv(fp, delim_whitespace=True, header=None).values for fp in file_paths]\n",
            "/tmp/ipython-input-426422734.py:9: FutureWarning: The 'delim_whitespace' keyword in pd.read_csv is deprecated and will be removed in a future version. Use ``sep='\\s+'`` instead\n",
            "  signals = [pd.read_csv(fp, delim_whitespace=True, header=None).values for fp in file_paths]\n",
            "/tmp/ipython-input-426422734.py:9: FutureWarning: The 'delim_whitespace' keyword in pd.read_csv is deprecated and will be removed in a future version. Use ``sep='\\s+'`` instead\n",
            "  signals = [pd.read_csv(fp, delim_whitespace=True, header=None).values for fp in file_paths]\n",
            "/tmp/ipython-input-426422734.py:9: FutureWarning: The 'delim_whitespace' keyword in pd.read_csv is deprecated and will be removed in a future version. Use ``sep='\\s+'`` instead\n",
            "  signals = [pd.read_csv(fp, delim_whitespace=True, header=None).values for fp in file_paths]\n",
            "/tmp/ipython-input-426422734.py:9: FutureWarning: The 'delim_whitespace' keyword in pd.read_csv is deprecated and will be removed in a future version. Use ``sep='\\s+'`` instead\n",
            "  signals = [pd.read_csv(fp, delim_whitespace=True, header=None).values for fp in file_paths]\n",
            "/tmp/ipython-input-426422734.py:9: FutureWarning: The 'delim_whitespace' keyword in pd.read_csv is deprecated and will be removed in a future version. Use ``sep='\\s+'`` instead\n",
            "  signals = [pd.read_csv(fp, delim_whitespace=True, header=None).values for fp in file_paths]\n",
            "/tmp/ipython-input-426422734.py:9: FutureWarning: The 'delim_whitespace' keyword in pd.read_csv is deprecated and will be removed in a future version. Use ``sep='\\s+'`` instead\n",
            "  signals = [pd.read_csv(fp, delim_whitespace=True, header=None).values for fp in file_paths]\n",
            "/tmp/ipython-input-426422734.py:9: FutureWarning: The 'delim_whitespace' keyword in pd.read_csv is deprecated and will be removed in a future version. Use ``sep='\\s+'`` instead\n",
            "  signals = [pd.read_csv(fp, delim_whitespace=True, header=None).values for fp in file_paths]\n",
            "/tmp/ipython-input-426422734.py:9: FutureWarning: The 'delim_whitespace' keyword in pd.read_csv is deprecated and will be removed in a future version. Use ``sep='\\s+'`` instead\n",
            "  signals = [pd.read_csv(fp, delim_whitespace=True, header=None).values for fp in file_paths]\n",
            "/tmp/ipython-input-426422734.py:9: FutureWarning: The 'delim_whitespace' keyword in pd.read_csv is deprecated and will be removed in a future version. Use ``sep='\\s+'`` instead\n",
            "  signals = [pd.read_csv(fp, delim_whitespace=True, header=None).values for fp in file_paths]\n",
            "/tmp/ipython-input-426422734.py:9: FutureWarning: The 'delim_whitespace' keyword in pd.read_csv is deprecated and will be removed in a future version. Use ``sep='\\s+'`` instead\n",
            "  signals = [pd.read_csv(fp, delim_whitespace=True, header=None).values for fp in file_paths]\n",
            "/tmp/ipython-input-426422734.py:9: FutureWarning: The 'delim_whitespace' keyword in pd.read_csv is deprecated and will be removed in a future version. Use ``sep='\\s+'`` instead\n",
            "  signals = [pd.read_csv(fp, delim_whitespace=True, header=None).values for fp in file_paths]\n"
          ]
        },
        {
          "output_type": "stream",
          "name": "stdout",
          "text": [
            "Train shape (samples, timesteps, channels): (7352, 128, 9)\n",
            "Test shape (samples, timesteps, channels): (2947, 128, 9)\n"
          ]
        }
      ]
    },
    {
      "cell_type": "code",
      "source": [
        "# Load labels (1–6 → shift to 0–5)\n",
        "y_train = pd.read_csv(os.path.join(data_path, \"train/y_train.txt\"), delim_whitespace=True, header=None)[0].values - 1\n",
        "y_test  = pd.read_csv(os.path.join(data_path, \"test/y_test.txt\"),  delim_whitespace=True, header=None)[0].values - 1\n",
        "\n",
        "print(\"y_train shape:\", y_train.shape)\n",
        "print(\"y_test shape:\", y_test.shape)\n"
      ],
      "metadata": {
        "colab": {
          "base_uri": "https://localhost:8080/"
        },
        "id": "zze9dNQAIwlA",
        "outputId": "d8990da9-ce52-4a0d-f460-0fbcf6b5015a"
      },
      "execution_count": null,
      "outputs": [
        {
          "output_type": "stream",
          "name": "stderr",
          "text": [
            "/tmp/ipython-input-3701873569.py:2: FutureWarning: The 'delim_whitespace' keyword in pd.read_csv is deprecated and will be removed in a future version. Use ``sep='\\s+'`` instead\n",
            "  y_train = pd.read_csv(os.path.join(data_path, \"train/y_train.txt\"), delim_whitespace=True, header=None)[0].values - 1\n",
            "/tmp/ipython-input-3701873569.py:3: FutureWarning: The 'delim_whitespace' keyword in pd.read_csv is deprecated and will be removed in a future version. Use ``sep='\\s+'`` instead\n",
            "  y_test  = pd.read_csv(os.path.join(data_path, \"test/y_test.txt\"),  delim_whitespace=True, header=None)[0].values - 1\n"
          ]
        },
        {
          "output_type": "stream",
          "name": "stdout",
          "text": [
            "y_train shape: (7352,)\n",
            "y_test shape: (2947,)\n"
          ]
        }
      ]
    },
    {
      "cell_type": "code",
      "source": [
        "from sklearn.preprocessing import StandardScaler\n",
        "\n",
        "# Flatten (n_samples, 128*9)\n",
        "X_train = X_train.reshape(X_train.shape[0], -1)\n",
        "X_test = X_test.reshape(X_test.shape[0], -1)\n",
        "\n",
        "# Scale features\n",
        "scaler = StandardScaler()\n",
        "X_train = scaler.fit_transform(X_train)\n",
        "X_test = scaler.transform(X_test)\n",
        "\n",
        "print(\"Flattened Train shape:\", X_train.shape)  # should be (7352, 1152)\n",
        "print(\"Flattened Test shape:\", X_test.shape)    # should be (2947, 1152)\n"
      ],
      "metadata": {
        "colab": {
          "base_uri": "https://localhost:8080/"
        },
        "id": "jznPkM1qJkBT",
        "outputId": "01900511-6045-409b-dbe8-d765d8b06126"
      },
      "execution_count": null,
      "outputs": [
        {
          "output_type": "stream",
          "name": "stdout",
          "text": [
            "Flattened Train shape: (7352, 1152)\n",
            "Flattened Test shape: (2947, 1152)\n"
          ]
        }
      ]
    },
    {
      "cell_type": "code",
      "source": [
        "import torch\n",
        "from torch.utils.data import TensorDataset, DataLoader\n",
        "\n",
        "X_train_tensor = torch.tensor(X_train, dtype=torch.float32)\n",
        "y_train_tensor = torch.tensor(y_train, dtype=torch.long)\n",
        "\n",
        "X_test_tensor = torch.tensor(X_test, dtype=torch.float32)\n",
        "y_test_tensor = torch.tensor(y_test, dtype=torch.long)\n",
        "\n",
        "train_dataset = TensorDataset(X_train_tensor, y_train_tensor)\n",
        "test_dataset  = TensorDataset(X_test_tensor, y_test_tensor)\n",
        "\n",
        "train_loader = DataLoader(train_dataset, batch_size=64, shuffle=True)\n",
        "test_loader  = DataLoader(test_dataset, batch_size=64, shuffle=False)\n"
      ],
      "metadata": {
        "id": "yUbBXa9dJmYq"
      },
      "execution_count": null,
      "outputs": []
    },
    {
      "cell_type": "markdown",
      "source": [
        "##MLP\n"
      ],
      "metadata": {
        "id": "yb8rkVJuKsgk"
      }
    },
    {
      "cell_type": "code",
      "source": [
        "import torch.nn as nn\n",
        "import torch.optim as optim\n",
        "\n",
        "class MLP(nn.Module):\n",
        "    def __init__(self, input_dim=1152, hidden1=256, hidden2=128, num_classes=6, p_dropout=0.5):\n",
        "        super(MLP, self).__init__()\n",
        "        self.block1 = nn.Sequential(\n",
        "            nn.Linear(input_dim, hidden1),\n",
        "            nn.BatchNorm1d(hidden1),\n",
        "            nn.ReLU(),\n",
        "            nn.Dropout(p_dropout)\n",
        "        )\n",
        "        self.block2 = nn.Sequential(\n",
        "            nn.Linear(hidden1, hidden2),\n",
        "            nn.BatchNorm1d(hidden2),\n",
        "            nn.ReLU(),\n",
        "            nn.Dropout(p_dropout)\n",
        "        )\n",
        "        self.classifier = nn.Linear(hidden2, num_classes)\n",
        "\n",
        "    def forward(self, x):\n",
        "        x = self.block1(x)\n",
        "        x = self.block2(x)\n",
        "        return self.classifier(x)\n",
        "\n",
        "device = torch.device(\"cuda\" if torch.cuda.is_available() else \"cpu\")\n",
        "model = MLP().to(device)\n",
        "\n",
        "criterion = nn.CrossEntropyLoss()\n",
        "optimizer = optim.Adam(model.parameters(), lr=1e-3, weight_decay=1e-5)\n",
        "\n",
        "print(model)\n"
      ],
      "metadata": {
        "colab": {
          "base_uri": "https://localhost:8080/"
        },
        "id": "UJn0Ld8IJpeg",
        "outputId": "9dc7c788-c1c6-4356-f116-10ae362bbfc6"
      },
      "execution_count": null,
      "outputs": [
        {
          "output_type": "stream",
          "name": "stdout",
          "text": [
            "MLP(\n",
            "  (block1): Sequential(\n",
            "    (0): Linear(in_features=1152, out_features=256, bias=True)\n",
            "    (1): BatchNorm1d(256, eps=1e-05, momentum=0.1, affine=True, track_running_stats=True)\n",
            "    (2): ReLU()\n",
            "    (3): Dropout(p=0.5, inplace=False)\n",
            "  )\n",
            "  (block2): Sequential(\n",
            "    (0): Linear(in_features=256, out_features=128, bias=True)\n",
            "    (1): BatchNorm1d(128, eps=1e-05, momentum=0.1, affine=True, track_running_stats=True)\n",
            "    (2): ReLU()\n",
            "    (3): Dropout(p=0.5, inplace=False)\n",
            "  )\n",
            "  (classifier): Linear(in_features=128, out_features=6, bias=True)\n",
            ")\n"
          ]
        }
      ]
    },
    {
      "cell_type": "code",
      "source": [
        "epochs = 20\n",
        "\n",
        "for epoch in range(epochs):\n",
        "    model.train()\n",
        "    total_loss, correct, total = 0, 0, 0\n",
        "\n",
        "    for X_batch, y_batch in train_loader:\n",
        "        X_batch, y_batch = X_batch.to(device), y_batch.to(device)\n",
        "\n",
        "        optimizer.zero_grad()\n",
        "        outputs = model(X_batch)\n",
        "        loss = criterion(outputs, y_batch)\n",
        "        loss.backward()\n",
        "        optimizer.step()\n",
        "\n",
        "        total_loss += loss.item()\n",
        "        _, predicted = outputs.max(1)\n",
        "        correct += (predicted == y_batch).sum().item()\n",
        "        total += y_batch.size(0)\n",
        "\n",
        "    acc = correct / total\n",
        "    print(f\"Epoch [{epoch+1}/{epochs}], Loss: {total_loss/len(train_loader):.4f}, Acc: {acc:.4f}\")\n"
      ],
      "metadata": {
        "colab": {
          "base_uri": "https://localhost:8080/"
        },
        "id": "828qhA6uJtQH",
        "outputId": "05644645-49ee-4b7f-a05c-8dea70364987"
      },
      "execution_count": null,
      "outputs": [
        {
          "output_type": "stream",
          "name": "stdout",
          "text": [
            "Epoch [1/20], Loss: 0.7420, Acc: 0.7462\n",
            "Epoch [2/20], Loss: 0.3705, Acc: 0.8755\n",
            "Epoch [3/20], Loss: 0.2815, Acc: 0.9002\n",
            "Epoch [4/20], Loss: 0.2385, Acc: 0.9123\n",
            "Epoch [5/20], Loss: 0.2067, Acc: 0.9211\n",
            "Epoch [6/20], Loss: 0.2071, Acc: 0.9203\n",
            "Epoch [7/20], Loss: 0.1945, Acc: 0.9280\n",
            "Epoch [8/20], Loss: 0.1916, Acc: 0.9263\n",
            "Epoch [9/20], Loss: 0.1690, Acc: 0.9363\n",
            "Epoch [10/20], Loss: 0.1632, Acc: 0.9361\n",
            "Epoch [11/20], Loss: 0.1608, Acc: 0.9332\n",
            "Epoch [12/20], Loss: 0.1593, Acc: 0.9354\n",
            "Epoch [13/20], Loss: 0.1574, Acc: 0.9354\n",
            "Epoch [14/20], Loss: 0.1580, Acc: 0.9374\n",
            "Epoch [15/20], Loss: 0.1573, Acc: 0.9348\n",
            "Epoch [16/20], Loss: 0.1558, Acc: 0.9363\n",
            "Epoch [17/20], Loss: 0.1476, Acc: 0.9427\n",
            "Epoch [18/20], Loss: 0.1479, Acc: 0.9395\n",
            "Epoch [19/20], Loss: 0.1477, Acc: 0.9410\n",
            "Epoch [20/20], Loss: 0.1477, Acc: 0.9399\n"
          ]
        }
      ]
    },
    {
      "cell_type": "code",
      "source": [
        "from sklearn.metrics import accuracy_score, precision_score, recall_score, f1_score\n",
        "\n",
        "model.eval()\n",
        "y_true, y_pred = [], []\n",
        "\n",
        "with torch.no_grad():\n",
        "    for X_batch, y_batch in test_loader:\n",
        "        X_batch, y_batch = X_batch.to(device), y_batch.to(device)\n",
        "        outputs = model(X_batch)\n",
        "        _, predicted = outputs.max(1)\n",
        "        y_true.extend(y_batch.cpu().numpy())\n",
        "        y_pred.extend(predicted.cpu().numpy())\n",
        "\n",
        "# Compute metrics\n",
        "acc1 = accuracy_score(y_true, y_pred)\n",
        "prec1 = precision_score(y_true, y_pred, average='weighted')\n",
        "rec1 = recall_score(y_true, y_pred, average='weighted')\n",
        "f11 = f1_score(y_true, y_pred, average='weighted')\n",
        "\n",
        "print(f\"Accuracy : {acc1:.4f}\")\n",
        "print(f\"Precision: {prec1:.4f}\")\n",
        "print(f\"Recall   : {rec1:.4f}\")\n",
        "print(f\"F1-score : {f11:.4f}\")\n"
      ],
      "metadata": {
        "colab": {
          "base_uri": "https://localhost:8080/"
        },
        "id": "tBjQTOG5JymB",
        "outputId": "b34e7ecd-db39-4d29-f2ae-3e248267c6cd"
      },
      "execution_count": null,
      "outputs": [
        {
          "output_type": "stream",
          "name": "stdout",
          "text": [
            "Accuracy : 0.9138\n",
            "Precision: 0.9153\n",
            "Recall   : 0.9138\n",
            "F1-score : 0.9139\n"
          ]
        }
      ]
    },
    {
      "cell_type": "markdown",
      "source": [
        "##CNN"
      ],
      "metadata": {
        "id": "lAq1wRG9K5N7"
      }
    },
    {
      "cell_type": "code",
      "source": [
        "# Reshape: (n_samples, 128, 9) → (n_samples, 9, 128)\n",
        "X_train_cnn = X_train.reshape(-1, 9, 128)\n",
        "X_test_cnn = X_test.reshape(-1, 9, 128)\n",
        "\n",
        "# Convert to torch tensors\n",
        "X_train_tensor = torch.tensor(X_train_cnn, dtype=torch.float32)\n",
        "y_train_tensor = torch.tensor(y_train, dtype=torch.long)\n",
        "\n",
        "X_test_tensor = torch.tensor(X_test_cnn, dtype=torch.float32)\n",
        "y_test_tensor = torch.tensor(y_test, dtype=torch.long)\n",
        "\n",
        "# Dataloaders\n",
        "train_loader = DataLoader(TensorDataset(X_train_tensor, y_train_tensor), batch_size=64, shuffle=True)\n",
        "test_loader  = DataLoader(TensorDataset(X_test_tensor, y_test_tensor), batch_size=64, shuffle=False)\n",
        "\n",
        "print(\"CNN input shape:\", X_train_tensor.shape)  # (7352, 9, 128)\n"
      ],
      "metadata": {
        "colab": {
          "base_uri": "https://localhost:8080/"
        },
        "id": "uuBYjjpPJ_PK",
        "outputId": "16a67b63-0bcf-492c-9de5-320b8e470c6d"
      },
      "execution_count": null,
      "outputs": [
        {
          "output_type": "stream",
          "name": "stdout",
          "text": [
            "CNN input shape: torch.Size([7352, 9, 128])\n"
          ]
        }
      ]
    },
    {
      "cell_type": "code",
      "source": [
        "class CNN(nn.Module):\n",
        "    def __init__(self, num_classes=6):\n",
        "        super(CNN, self).__init__()\n",
        "        self.conv1 = nn.Conv1d(in_channels=9, out_channels=64, kernel_size=3, padding=1)\n",
        "        self.bn1 = nn.BatchNorm1d(64)\n",
        "        self.pool1 = nn.MaxPool1d(2)\n",
        "\n",
        "        self.conv2 = nn.Conv1d(64, 128, kernel_size=3, padding=1)\n",
        "        self.bn2 = nn.BatchNorm1d(128)\n",
        "        self.pool2 = nn.MaxPool1d(2)\n",
        "\n",
        "        self.conv3 = nn.Conv1d(128, 256, kernel_size=3, padding=1)\n",
        "        self.bn3 = nn.BatchNorm1d(256)\n",
        "        self.pool3 = nn.AdaptiveMaxPool1d(1)  # Global pooling\n",
        "\n",
        "        self.fc = nn.Linear(256, num_classes)\n",
        "\n",
        "    def forward(self, x):\n",
        "        x = self.pool1(torch.relu(self.bn1(self.conv1(x))))\n",
        "        x = self.pool2(torch.relu(self.bn2(self.conv2(x))))\n",
        "        x = self.pool3(torch.relu(self.bn3(self.conv3(x))))\n",
        "        x = x.view(x.size(0), -1)  # flatten\n",
        "        return self.fc(x)\n",
        "\n",
        "device = torch.device(\"cuda\" if torch.cuda.is_available() else \"cpu\")\n",
        "model = CNN().to(device)\n",
        "\n",
        "criterion = nn.CrossEntropyLoss()\n",
        "optimizer = optim.Adam(model.parameters(), lr=1e-3, weight_decay=1e-5)\n"
      ],
      "metadata": {
        "id": "bEIXuo0lK9br"
      },
      "execution_count": null,
      "outputs": []
    },
    {
      "cell_type": "code",
      "source": [
        "epochs = 20\n",
        "for epoch in range(epochs):\n",
        "    model.train()\n",
        "    total_loss, correct, total = 0, 0, 0\n",
        "\n",
        "    for X_batch, y_batch in train_loader:\n",
        "        X_batch, y_batch = X_batch.to(device), y_batch.to(device)\n",
        "\n",
        "        optimizer.zero_grad()\n",
        "        outputs = model(X_batch)\n",
        "        loss = criterion(outputs, y_batch)\n",
        "        loss.backward()\n",
        "        optimizer.step()\n",
        "\n",
        "        total_loss += loss.item()\n",
        "        _, predicted = outputs.max(1)\n",
        "        correct += (predicted == y_batch).sum().item()\n",
        "        total += y_batch.size(0)\n",
        "\n",
        "    acc = correct / total\n",
        "    print(f\"Epoch [{epoch+1}/{epochs}] Loss: {total_loss/len(train_loader):.4f}, Train Acc: {acc:.4f}\")\n"
      ],
      "metadata": {
        "colab": {
          "base_uri": "https://localhost:8080/"
        },
        "id": "xT1n6aZ5LAwV",
        "outputId": "7ee5ffad-b37c-4901-aa0d-2cd1298ee759"
      },
      "execution_count": null,
      "outputs": [
        {
          "output_type": "stream",
          "name": "stdout",
          "text": [
            "Epoch [1/20] Loss: 0.4241, Train Acc: 0.8354\n",
            "Epoch [2/20] Loss: 0.1628, Train Acc: 0.9434\n",
            "Epoch [3/20] Loss: 0.1208, Train Acc: 0.9540\n",
            "Epoch [4/20] Loss: 0.1031, Train Acc: 0.9585\n",
            "Epoch [5/20] Loss: 0.0953, Train Acc: 0.9618\n",
            "Epoch [6/20] Loss: 0.0853, Train Acc: 0.9656\n",
            "Epoch [7/20] Loss: 0.0805, Train Acc: 0.9664\n",
            "Epoch [8/20] Loss: 0.0745, Train Acc: 0.9683\n",
            "Epoch [9/20] Loss: 0.0691, Train Acc: 0.9709\n",
            "Epoch [10/20] Loss: 0.0695, Train Acc: 0.9695\n",
            "Epoch [11/20] Loss: 0.0677, Train Acc: 0.9718\n",
            "Epoch [12/20] Loss: 0.0647, Train Acc: 0.9723\n",
            "Epoch [13/20] Loss: 0.0557, Train Acc: 0.9759\n",
            "Epoch [14/20] Loss: 0.0585, Train Acc: 0.9744\n",
            "Epoch [15/20] Loss: 0.0512, Train Acc: 0.9778\n",
            "Epoch [16/20] Loss: 0.0548, Train Acc: 0.9762\n",
            "Epoch [17/20] Loss: 0.0545, Train Acc: 0.9774\n",
            "Epoch [18/20] Loss: 0.0559, Train Acc: 0.9752\n",
            "Epoch [19/20] Loss: 0.0510, Train Acc: 0.9788\n",
            "Epoch [20/20] Loss: 0.0568, Train Acc: 0.9770\n"
          ]
        }
      ]
    },
    {
      "cell_type": "code",
      "source": [
        "from sklearn.metrics import accuracy_score, precision_score, recall_score, f1_score\n",
        "\n",
        "model.eval()\n",
        "y_true, y_pred = [], []\n",
        "\n",
        "with torch.no_grad():\n",
        "    for X_batch, y_batch in test_loader:\n",
        "        X_batch, y_batch = X_batch.to(device), y_batch.to(device)\n",
        "        outputs = model(X_batch)\n",
        "        _, predicted = outputs.max(1)\n",
        "        y_true.extend(y_batch.cpu().numpy())\n",
        "        y_pred.extend(predicted.cpu().numpy())\n",
        "\n",
        "acc2 = accuracy_score(y_true, y_pred)\n",
        "prec2 = precision_score(y_true, y_pred, average='weighted')\n",
        "rec2 = recall_score(y_true, y_pred, average='weighted')\n",
        "f12 = f1_score(y_true, y_pred, average='weighted')\n",
        "\n",
        "print(f\"Accuracy : {acc2:.4f}\")\n",
        "print(f\"Precision: {prec2:.4f}\")\n",
        "print(f\"Recall   : {rec2:.4f}\")\n",
        "print(f\"F1-score : {f12:.4f}\")\n"
      ],
      "metadata": {
        "colab": {
          "base_uri": "https://localhost:8080/"
        },
        "id": "Pe26dUEVLCW8",
        "outputId": "6963214f-5a25-4de9-da28-bcf47034809a"
      },
      "execution_count": null,
      "outputs": [
        {
          "output_type": "stream",
          "name": "stdout",
          "text": [
            "Accuracy : 0.8765\n",
            "Precision: 0.8860\n",
            "Recall   : 0.8765\n",
            "F1-score : 0.8735\n"
          ]
        }
      ]
    },
    {
      "cell_type": "markdown",
      "source": [
        "##LSTM"
      ],
      "metadata": {
        "id": "Fuy8AqVbL_Xa"
      }
    },
    {
      "cell_type": "code",
      "source": [
        "# Reshape: (n_samples, 128, 9)\n",
        "X_train_lstm = X_train.reshape(-1, 128, 9)\n",
        "X_test_lstm = X_test.reshape(-1, 128, 9)\n",
        "\n",
        "# Convert to torch tensors\n",
        "X_train_tensor = torch.tensor(X_train_lstm, dtype=torch.float32)\n",
        "y_train_tensor = torch.tensor(y_train, dtype=torch.long)\n",
        "\n",
        "X_test_tensor = torch.tensor(X_test_lstm, dtype=torch.float32)\n",
        "y_test_tensor = torch.tensor(y_test, dtype=torch.long)\n",
        "\n",
        "# DataLoaders\n",
        "train_loader = DataLoader(TensorDataset(X_train_tensor, y_train_tensor), batch_size=64, shuffle=True)\n",
        "test_loader  = DataLoader(TensorDataset(X_test_tensor, y_test_tensor), batch_size=64, shuffle=False)\n",
        "\n",
        "print(\"LSTM input shape:\", X_train_tensor.shape)  # (7352, 128, 9)\n"
      ],
      "metadata": {
        "colab": {
          "base_uri": "https://localhost:8080/"
        },
        "id": "TLB8WlxhLzwM",
        "outputId": "9ad07406-4011-4b01-f88a-2c2aac72e7c3"
      },
      "execution_count": null,
      "outputs": [
        {
          "output_type": "stream",
          "name": "stdout",
          "text": [
            "LSTM input shape: torch.Size([7352, 128, 9])\n"
          ]
        }
      ]
    },
    {
      "cell_type": "code",
      "source": [
        "class LSTMNet(nn.Module):\n",
        "    def __init__(self, input_size=9, hidden_size=128, num_layers=2, num_classes=6, dropout=0.5):\n",
        "        super(LSTMNet, self).__init__()\n",
        "        self.lstm = nn.LSTM(input_size=input_size,\n",
        "                            hidden_size=hidden_size,\n",
        "                            num_layers=num_layers,\n",
        "                            batch_first=True,\n",
        "                            dropout=dropout)\n",
        "        self.fc = nn.Linear(hidden_size, num_classes)\n",
        "\n",
        "    def forward(self, x):\n",
        "        # x: (batch, seq_len, input_size)\n",
        "        out, (hn, cn) = self.lstm(x)\n",
        "        # Take the last hidden state\n",
        "        out = hn[-1]   # shape: (batch, hidden_size)\n",
        "        out = self.fc(out)\n",
        "        return out\n",
        "\n",
        "device = torch.device(\"cuda\" if torch.cuda.is_available() else \"cpu\")\n",
        "model = LSTMNet().to(device)\n",
        "\n",
        "criterion = nn.CrossEntropyLoss()\n",
        "optimizer = optim.Adam(model.parameters(), lr=1e-3, weight_decay=1e-5)\n"
      ],
      "metadata": {
        "id": "ncja71k6MA8o"
      },
      "execution_count": null,
      "outputs": []
    },
    {
      "cell_type": "code",
      "source": [
        "epochs = 20\n",
        "for epoch in range(epochs):\n",
        "    model.train()\n",
        "    total_loss, correct, total = 0, 0, 0\n",
        "\n",
        "    for X_batch, y_batch in train_loader:\n",
        "        X_batch, y_batch = X_batch.to(device), y_batch.to(device)\n",
        "\n",
        "        optimizer.zero_grad()\n",
        "        outputs = model(X_batch)\n",
        "        loss = criterion(outputs, y_batch)\n",
        "        loss.backward()\n",
        "        optimizer.step()\n",
        "\n",
        "        total_loss += loss.item()\n",
        "        _, predicted = outputs.max(1)\n",
        "        correct += (predicted == y_batch).sum().item()\n",
        "        total += y_batch.size(0)\n",
        "\n",
        "    acc = correct / total\n",
        "    print(f\"Epoch [{epoch+1}/{epochs}] Loss: {total_loss/len(train_loader):.4f}, Train Acc: {acc:.4f}\")\n"
      ],
      "metadata": {
        "colab": {
          "base_uri": "https://localhost:8080/"
        },
        "id": "dB1_eLUlMDCx",
        "outputId": "dae14e5f-8714-4d56-cbc5-5168adf0be43"
      },
      "execution_count": null,
      "outputs": [
        {
          "output_type": "stream",
          "name": "stdout",
          "text": [
            "Epoch [1/20] Loss: 0.9524, Train Acc: 0.6098\n",
            "Epoch [2/20] Loss: 0.3818, Train Acc: 0.8570\n",
            "Epoch [3/20] Loss: 0.2350, Train Acc: 0.9131\n",
            "Epoch [4/20] Loss: 0.1666, Train Acc: 0.9382\n",
            "Epoch [5/20] Loss: 0.1485, Train Acc: 0.9446\n",
            "Epoch [6/20] Loss: 0.1465, Train Acc: 0.9414\n",
            "Epoch [7/20] Loss: 0.1674, Train Acc: 0.9305\n",
            "Epoch [8/20] Loss: 0.1280, Train Acc: 0.9474\n",
            "Epoch [9/20] Loss: 0.1320, Train Acc: 0.9517\n",
            "Epoch [10/20] Loss: 0.1196, Train Acc: 0.9539\n",
            "Epoch [11/20] Loss: 0.1160, Train Acc: 0.9569\n",
            "Epoch [12/20] Loss: 0.1200, Train Acc: 0.9518\n",
            "Epoch [13/20] Loss: 0.1565, Train Acc: 0.9433\n",
            "Epoch [14/20] Loss: 0.1551, Train Acc: 0.9380\n",
            "Epoch [15/20] Loss: 0.1147, Train Acc: 0.9557\n",
            "Epoch [16/20] Loss: 0.1315, Train Acc: 0.9514\n",
            "Epoch [17/20] Loss: 0.1226, Train Acc: 0.9498\n",
            "Epoch [18/20] Loss: 0.1237, Train Acc: 0.9476\n",
            "Epoch [19/20] Loss: 0.1099, Train Acc: 0.9573\n",
            "Epoch [20/20] Loss: 0.1065, Train Acc: 0.9562\n"
          ]
        }
      ]
    },
    {
      "cell_type": "code",
      "source": [
        "from sklearn.metrics import accuracy_score, precision_score, recall_score, f1_score\n",
        "\n",
        "model.eval()\n",
        "y_true, y_pred = [], []\n",
        "\n",
        "with torch.no_grad():\n",
        "    for X_batch, y_batch in test_loader:\n",
        "        X_batch, y_batch = X_batch.to(device), y_batch.to(device)\n",
        "        outputs = model(X_batch)\n",
        "        _, predicted = outputs.max(1)\n",
        "        y_true.extend(y_batch.cpu().numpy())\n",
        "        y_pred.extend(predicted.cpu().numpy())\n",
        "\n",
        "acc3 = accuracy_score(y_true, y_pred)\n",
        "prec3 = precision_score(y_true, y_pred, average='weighted')\n",
        "rec3 = recall_score(y_true, y_pred, average='weighted')\n",
        "f13 = f1_score(y_true, y_pred, average='weighted')\n",
        "\n",
        "print(f\"Accuracy : {acc3:.4f}\")\n",
        "print(f\"Precision: {prec3:.4f}\")\n",
        "print(f\"Recall   : {rec3:.4f}\")\n",
        "print(f\"F1-score : {f13:.4f}\")\n"
      ],
      "metadata": {
        "id": "j5NWPYnCMFwR",
        "colab": {
          "base_uri": "https://localhost:8080/"
        },
        "outputId": "b7f44915-63a0-4d0c-a713-f2d52a80d4c8"
      },
      "execution_count": null,
      "outputs": [
        {
          "output_type": "stream",
          "name": "stdout",
          "text": [
            "Accuracy : 0.9074\n",
            "Precision: 0.9076\n",
            "Recall   : 0.9074\n",
            "F1-score : 0.9071\n"
          ]
        }
      ]
    },
    {
      "cell_type": "markdown",
      "source": [
        "##CNN-LSTM Hybrid"
      ],
      "metadata": {
        "id": "yBDCw0-VMUL1"
      }
    },
    {
      "cell_type": "code",
      "source": [
        "# Reshape back to (samples, 128, 9) for CNN-LSTM\n",
        "X_train_cnnlstm = X_train.reshape(-1, 128, 9)\n",
        "X_test_cnnlstm = X_test.reshape(-1, 128, 9)\n",
        "\n",
        "# Torch tensors\n",
        "X_train_tensor = torch.tensor(X_train_cnnlstm, dtype=torch.float32)\n",
        "y_train_tensor = torch.tensor(y_train, dtype=torch.long)\n",
        "\n",
        "X_test_tensor = torch.tensor(X_test_cnnlstm, dtype=torch.float32)\n",
        "y_test_tensor = torch.tensor(y_test, dtype=torch.long)\n",
        "\n",
        "# DataLoaders\n",
        "train_loader = DataLoader(TensorDataset(X_train_tensor, y_train_tensor), batch_size=64, shuffle=True)\n",
        "test_loader  = DataLoader(TensorDataset(X_test_tensor, y_test_tensor), batch_size=64, shuffle=False)\n",
        "\n",
        "print(\"CNN-LSTM input shape:\", X_train_tensor.shape)  # (7352, 128, 9)\n"
      ],
      "metadata": {
        "colab": {
          "base_uri": "https://localhost:8080/"
        },
        "id": "ZQ6afB0DMKCb",
        "outputId": "78c33d8a-ee93-4698-d031-8b4102f972ca"
      },
      "execution_count": null,
      "outputs": [
        {
          "output_type": "stream",
          "name": "stdout",
          "text": [
            "CNN-LSTM input shape: torch.Size([7352, 128, 9])\n"
          ]
        }
      ]
    },
    {
      "cell_type": "code",
      "source": [
        "class CNN_LSTM(nn.Module):\n",
        "    def __init__(self, num_classes=6, hidden_size=128, num_layers=1, dropout=0.5):\n",
        "        super(CNN_LSTM, self).__init__()\n",
        "        # CNN part\n",
        "        self.conv1 = nn.Conv1d(in_channels=9, out_channels=64, kernel_size=3, padding=1)\n",
        "        self.bn1 = nn.BatchNorm1d(64)\n",
        "        self.pool1 = nn.MaxPool1d(2)  # (128 → 64 timesteps)\n",
        "\n",
        "        self.conv2 = nn.Conv1d(64, 128, kernel_size=3, padding=1)\n",
        "        self.bn2 = nn.BatchNorm1d(128)\n",
        "        self.pool2 = nn.MaxPool1d(2)  # (64 → 32 timesteps)\n",
        "\n",
        "        # LSTM part\n",
        "        self.lstm = nn.LSTM(input_size=128, hidden_size=hidden_size,\n",
        "                            num_layers=num_layers, batch_first=True, dropout=dropout)\n",
        "\n",
        "        # FC classifier\n",
        "        self.fc = nn.Linear(hidden_size, num_classes)\n",
        "\n",
        "    def forward(self, x):\n",
        "        # x: (batch, seq_len=128, features=9)\n",
        "        # CNN expects (batch, channels, seq_len)\n",
        "        x = x.permute(0, 2, 1)\n",
        "\n",
        "        x = self.pool1(torch.relu(self.bn1(self.conv1(x))))\n",
        "        x = self.pool2(torch.relu(self.bn2(self.conv2(x))))\n",
        "        # shape now: (batch, channels=128, seq_len=32)\n",
        "\n",
        "        # Back to LSTM format: (batch, seq_len, features)\n",
        "        x = x.permute(0, 2, 1)  # (batch, 32, 128)\n",
        "\n",
        "        # LSTM\n",
        "        out, (hn, cn) = self.lstm(x)\n",
        "        out = hn[-1]  # last hidden state\n",
        "\n",
        "        return self.fc(out)\n",
        "\n",
        "device = torch.device(\"cuda\" if torch.cuda.is_available() else \"cpu\")\n",
        "model = CNN_LSTM().to(device)\n",
        "\n",
        "criterion = nn.CrossEntropyLoss()\n",
        "optimizer = optim.Adam(model.parameters(), lr=1e-3, weight_decay=1e-5)\n"
      ],
      "metadata": {
        "colab": {
          "base_uri": "https://localhost:8080/"
        },
        "id": "ByhF46BNMfZZ",
        "outputId": "151443ad-71aa-43ad-d184-69d21419c95e"
      },
      "execution_count": null,
      "outputs": [
        {
          "output_type": "stream",
          "name": "stderr",
          "text": [
            "/usr/local/lib/python3.12/dist-packages/torch/nn/modules/rnn.py:123: UserWarning: dropout option adds dropout after all but last recurrent layer, so non-zero dropout expects num_layers greater than 1, but got dropout=0.5 and num_layers=1\n",
            "  warnings.warn(\n"
          ]
        }
      ]
    },
    {
      "cell_type": "code",
      "source": [
        "epochs = 20\n",
        "for epoch in range(epochs):\n",
        "    model.train()\n",
        "    total_loss, correct, total = 0, 0, 0\n",
        "\n",
        "    for X_batch, y_batch in train_loader:\n",
        "        X_batch, y_batch = X_batch.to(device), y_batch.to(device)\n",
        "\n",
        "        optimizer.zero_grad()\n",
        "        outputs = model(X_batch)\n",
        "        loss = criterion(outputs, y_batch)\n",
        "        loss.backward()\n",
        "        optimizer.step()\n",
        "\n",
        "        total_loss += loss.item()\n",
        "        _, predicted = outputs.max(1)\n",
        "        correct += (predicted == y_batch).sum().item()\n",
        "        total += y_batch.size(0)\n",
        "\n",
        "    acc = correct / total\n",
        "    print(f\"Epoch [{epoch+1}/{epochs}] Loss: {total_loss/len(train_loader):.4f}, Train Acc: {acc:.4f}\")\n"
      ],
      "metadata": {
        "id": "vKTXo5k4Mhy3",
        "colab": {
          "base_uri": "https://localhost:8080/"
        },
        "outputId": "f9d4e733-b267-46c8-aaa2-2d670e09a8b9"
      },
      "execution_count": null,
      "outputs": [
        {
          "output_type": "stream",
          "name": "stdout",
          "text": [
            "Epoch [1/20] Loss: 0.4084, Train Acc: 0.8547\n",
            "Epoch [2/20] Loss: 0.1439, Train Acc: 0.9421\n",
            "Epoch [3/20] Loss: 0.1308, Train Acc: 0.9489\n",
            "Epoch [4/20] Loss: 0.1278, Train Acc: 0.9491\n",
            "Epoch [5/20] Loss: 0.1280, Train Acc: 0.9467\n",
            "Epoch [6/20] Loss: 0.1168, Train Acc: 0.9478\n",
            "Epoch [7/20] Loss: 0.1110, Train Acc: 0.9514\n",
            "Epoch [8/20] Loss: 0.1148, Train Acc: 0.9520\n",
            "Epoch [9/20] Loss: 0.1137, Train Acc: 0.9524\n",
            "Epoch [10/20] Loss: 0.1169, Train Acc: 0.9484\n",
            "Epoch [11/20] Loss: 0.1329, Train Acc: 0.9450\n",
            "Epoch [12/20] Loss: 0.1135, Train Acc: 0.9516\n",
            "Epoch [13/20] Loss: 0.1124, Train Acc: 0.9517\n",
            "Epoch [14/20] Loss: 0.1078, Train Acc: 0.9521\n",
            "Epoch [15/20] Loss: 0.1183, Train Acc: 0.9489\n",
            "Epoch [16/20] Loss: 0.1097, Train Acc: 0.9535\n",
            "Epoch [17/20] Loss: 0.1016, Train Acc: 0.9558\n",
            "Epoch [18/20] Loss: 0.1082, Train Acc: 0.9513\n",
            "Epoch [19/20] Loss: 0.1069, Train Acc: 0.9528\n",
            "Epoch [20/20] Loss: 0.1084, Train Acc: 0.9547\n"
          ]
        }
      ]
    },
    {
      "cell_type": "code",
      "source": [
        "from sklearn.metrics import accuracy_score, precision_score, recall_score, f1_score\n",
        "\n",
        "model.eval()\n",
        "y_true, y_pred = [], []\n",
        "\n",
        "with torch.no_grad():\n",
        "    for X_batch, y_batch in test_loader:\n",
        "        X_batch, y_batch = X_batch.to(device), y_batch.to(device)\n",
        "        outputs = model(X_batch)\n",
        "        _, predicted = outputs.max(1)\n",
        "        y_true.extend(y_batch.cpu().numpy())\n",
        "        y_pred.extend(predicted.cpu().numpy())\n",
        "\n",
        "acc4 = accuracy_score(y_true, y_pred)\n",
        "prec4 = precision_score(y_true, y_pred, average='weighted')\n",
        "rec4 = recall_score(y_true, y_pred, average='weighted')\n",
        "f14 = f1_score(y_true, y_pred, average='weighted')\n",
        "\n",
        "print(f\"Accuracy : {acc4:.4f}\")\n",
        "print(f\"Precision: {prec4:.4f}\")\n",
        "print(f\"Recall   : {rec4:.4f}\")\n",
        "print(f\"F1-score : {f14:.4f}\")\n"
      ],
      "metadata": {
        "id": "rDbvY1EXMlHa",
        "colab": {
          "base_uri": "https://localhost:8080/"
        },
        "outputId": "e3dfdcaa-d5ef-41c8-f77f-63ce3f68453a"
      },
      "execution_count": null,
      "outputs": [
        {
          "output_type": "stream",
          "name": "stdout",
          "text": [
            "Accuracy : 0.9382\n",
            "Precision: 0.9383\n",
            "Recall   : 0.9382\n",
            "F1-score : 0.9381\n"
          ]
        }
      ]
    },
    {
      "cell_type": "code",
      "source": [
        "\n",
        "from tabulate import tabulate\n",
        "\n",
        "# Store results\n",
        "table = [\n",
        "    [\"MLP\", acc1, prec1, rec1, f11],\n",
        "    [\"CNN\", acc2, prec2, rec2, f12],\n",
        "    [\"LSTM\", acc3, prec3, rec3, f13],\n",
        "    [\"CNN-LSTM\", acc4, prec4, rec4, f14]\n",
        "]\n",
        "\n",
        "# Define headers\n",
        "headers = [\"Model\", \"Accuracy\", \"Precision\", \"Recall\", \"F1-score\"]\n",
        "\n",
        "# Print table\n",
        "print(tabulate(table, headers=headers, tablefmt=\"fancy_grid\", floatfmt=\".4f\"))\n"
      ],
      "metadata": {
        "colab": {
          "base_uri": "https://localhost:8080/"
        },
        "id": "EDF6pu60RbUJ",
        "outputId": "e773c682-4474-45b1-d249-8cdf368e2a42"
      },
      "execution_count": null,
      "outputs": [
        {
          "output_type": "stream",
          "name": "stdout",
          "text": [
            "╒══════════╤════════════╤═════════════╤══════════╤════════════╕\n",
            "│ Model    │   Accuracy │   Precision │   Recall │   F1-score │\n",
            "╞══════════╪════════════╪═════════════╪══════════╪════════════╡\n",
            "│ MLP      │     0.9138 │      0.9153 │   0.9138 │     0.9139 │\n",
            "├──────────┼────────────┼─────────────┼──────────┼────────────┤\n",
            "│ CNN      │     0.8765 │      0.8860 │   0.8765 │     0.8735 │\n",
            "├──────────┼────────────┼─────────────┼──────────┼────────────┤\n",
            "│ LSTM     │     0.9074 │      0.9076 │   0.9074 │     0.9071 │\n",
            "├──────────┼────────────┼─────────────┼──────────┼────────────┤\n",
            "│ CNN-LSTM │     0.9382 │      0.9383 │   0.9382 │     0.9381 │\n",
            "╘══════════╧════════════╧═════════════╧══════════╧════════════╛\n"
          ]
        }
      ]
    },
    {
      "cell_type": "code",
      "source": [
        "import matplotlib.pyplot as plt\n",
        "import numpy as np\n",
        "\n",
        "# Metrics for each model\n",
        "models = [\"MLP\", \"CNN\", \"LSTM\", \"CNN-LSTM\"]\n",
        "accuracy = [acc1, acc2, acc3, acc4]\n",
        "precision = [prec1, prec2, prec3, prec4]\n",
        "recall = [rec1, rec2, rec3, rec4]\n",
        "f1 = [f11, f12, f13, f14]\n",
        "\n",
        "# Bar positions\n",
        "x = np.arange(len(models))\n",
        "width = 0.1  # slimmer bars\n",
        "\n",
        "# Create plot with tighter spacing\n",
        "plt.figure(figsize=(8,4))\n",
        "plt.bar(x - 0.15, accuracy, width, label='Accuracy')\n",
        "plt.bar(x - 0.05, precision, width, label='Precision')\n",
        "plt.bar(x + 0.05, recall, width, label='Recall')\n",
        "plt.bar(x + 0.15, f1, width, label='F1-score')\n",
        "\n",
        "# Formatting\n",
        "plt.xticks(x, models)\n",
        "plt.ylabel(\"Score\")\n",
        "plt.ylim(0, 1.05)\n",
        "plt.title(\"Comparison of Models on UCI HAR Dataset\")\n",
        "plt.legend()\n",
        "plt.grid(axis='y', linestyle=\"--\", alpha=0.6)\n",
        "\n",
        "plt.show()\n"
      ],
      "metadata": {
        "colab": {
          "base_uri": "https://localhost:8080/",
          "height": 391
        },
        "id": "bFLpsPhARcbJ",
        "outputId": "fb4b895b-b362-45a4-a7c4-893176b9aef2"
      },
      "execution_count": null,
      "outputs": [
        {
          "output_type": "display_data",
          "data": {
            "text/plain": [
              "<Figure size 800x400 with 1 Axes>"
            ],
            "image/png": "[encoded data removed]"
          },
          "metadata": {}
        }
      ]
    },
    {
      "cell_type": "code",
      "source": [],
      "metadata": {
        "id": "ElUpmcJTkGx8"
      },
      "execution_count": null,
      "outputs": []
    }
  ]
}